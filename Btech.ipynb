{
  "nbformat": 4,
  "nbformat_minor": 0,
  "metadata": {
    "colab": {
      "provenance": [],
      "include_colab_link": true
    },
    "kernelspec": {
      "name": "python3",
      "display_name": "Python 3"
    },
    "language_info": {
      "name": "python"
    }
  },
  "cells": [
    {
      "cell_type": "markdown",
      "metadata": {
        "id": "view-in-github",
        "colab_type": "text"
      },
      "source": [
        "<a href=\"https://colab.research.google.com/github/AckermanLevi1/BTP-1/blob/main/Btech.ipynb\" target=\"_parent\"><img src=\"https://colab.research.google.com/assets/colab-badge.svg\" alt=\"Open In Colab\"/></a>"
      ]
    },
    {
      "cell_type": "code",
      "source": [
        "!pip install simpy"
      ],
      "metadata": {
        "id": "LwXWpmbJDCjy",
        "outputId": "8adfd832-efe4-4951-9af1-6643a50a875c",
        "colab": {
          "base_uri": "https://localhost:8080/"
        }
      },
      "execution_count": 2,
      "outputs": [
        {
          "output_type": "stream",
          "name": "stdout",
          "text": [
            "Collecting simpy\n",
            "  Downloading simpy-4.1.1-py3-none-any.whl (27 kB)\n",
            "Installing collected packages: simpy\n",
            "Successfully installed simpy-4.1.1\n"
          ]
        }
      ]
    },
    {
      "cell_type": "code",
      "execution_count": 3,
      "metadata": {
        "id": "EBxYhlP6-674"
      },
      "outputs": [],
      "source": [
        "import simpy\n",
        "import random\n",
        "import numpy as np\n",
        "from scipy.stats import norm\n",
        "import matplotlib.pyplot as plt\n",
        "from IPython.core.interactiveshell import InteractiveShell\n",
        "InteractiveShell.ast_node_interactivity = \"all\""
      ]
    },
    {
      "cell_type": "code",
      "source": [
        "class DemandGenerator:\n",
        "    def __init__(self):\n",
        "        self.demand_probabilities = [0.7, 0.15, 0.15]\n",
        "        self.demand_values = [100000, 150000, 200000]\n",
        "\n",
        "    def generate_demand(self):\n",
        "        demand = random.choices(self.demand_values, self.demand_probabilities)[0]\n",
        "        return demand"
      ],
      "metadata": {
        "id": "bi5CV8PFPH1T"
      },
      "execution_count": 4,
      "outputs": []
    },
    {
      "cell_type": "markdown",
      "source": [
        "#### Retailer"
      ],
      "metadata": {
        "id": "h4sV3HQBEcxP"
      }
    },
    {
      "cell_type": "code",
      "source": [
        "class Retailer:\n",
        "    def __init__(self, env, wholesaler):\n",
        "        self.env = env\n",
        "        self.wholesaler = wholesaler\n",
        "        self.demand_generator = DemandGenerator()\n",
        "        self.incomingOrder = 0\n",
        "        self.outgoingOrder = 0\n",
        "        self.inventory = 0\n",
        "        self.holding_cost = 0.5\n",
        "        self.shortage_cost = 1\n",
        "        self.costs = []\n",
        "        self.demandList = []\n",
        "        self.optimalQtyList = []\n",
        "        self.OrderList = []\n",
        "        self.inventoryList  = []\n",
        "        self.lead_time = random.randint(1,4)\n",
        "        self.action = env.process(self.run())\n",
        "\n",
        "\n",
        "    def cal_optimal_quantity(self):\n",
        "      ## Use new vendor model to calculate optimal quantity\n",
        "      mu = np.mean(self.demandList)\n",
        "      sigma = np.std(self.demandList)\n",
        "      criticalRatio = self.shortage_cost/(self.shortage_cost+self.holding_cost)\n",
        "      optimalQuantity = round(sigma*norm.ppf(criticalRatio) + mu,0)\n",
        "      return optimalQuantity\n",
        "\n",
        "    def place_order(self):\n",
        "      ## placing the optimal order\n",
        "      optimalQuantity = self.cal_optimal_quantity()\n",
        "      self.optimalQtyList.append(optimalQuantity)\n",
        "      if self.inventory < optimalQuantity:\n",
        "        order = optimalQuantity - self.inventory\n",
        "        self.OrderList.append(order)\n",
        "        self.incomingOrder = self.wholesaler.receive_order(order)\n",
        "        self.inventory += self.incomingOrder\n",
        "        self.inventoryList.append(self.inventory)\n",
        "      else: self.OrderList.append(0)\n",
        "\n",
        "    def run(self):\n",
        "        while True:\n",
        "          self.receive_order()\n",
        "          if self.inventory >= 0:\n",
        "            self.costs.append(self.inventory*self.holding_cost)\n",
        "          else:\n",
        "            self.costs.append(abs(self.inventory*self.shortage_cost))\n",
        "          yield self.env.timeout(self.lead_time)\n",
        "          self.place_order()\n",
        "\n",
        "    def receive_order(self):\n",
        "      demand = self.demand_generator.generate_demand()\n",
        "      self.demandList.append(demand)\n",
        "      if self.inventory < demand:\n",
        "          self.outgoingOrder = self.inventory\n",
        "      else:\n",
        "          self.outgoingOrder = demand\n",
        "      self.inventory -= self.outgoingOrder\n",
        "\n",
        "\n"
      ],
      "metadata": {
        "id": "PyTyYXzSOc0k"
      },
      "execution_count": 5,
      "outputs": []
    },
    {
      "cell_type": "markdown",
      "source": [
        "#### Wholesaler"
      ],
      "metadata": {
        "id": "zpckCL8SEfOg"
      }
    },
    {
      "cell_type": "code",
      "source": [
        "class Wholesaler:\n",
        "    def __init__(self, env, distributor):\n",
        "        self.env = env\n",
        "        self.distributor = distributor\n",
        "        self.lead_time = random.randint(1,4)\n",
        "        self.incomingOrder = 0\n",
        "        self.outgoingOrder = 0\n",
        "        self.inventory = 0\n",
        "        self.holding_cost = 0.5\n",
        "        self.shortage_cost = 1\n",
        "        self.costs = []\n",
        "        self.demandList = []\n",
        "        self.optimalQtyList = []\n",
        "        self.OrderList = []\n",
        "        self.inventoryList  = []\n",
        "        self.action = env.process(self.run())\n",
        "\n",
        "\n",
        "    def cal_optimal_quantity(self):\n",
        "      ## Use new vendor model to calculate optimal quantity\n",
        "      mu = np.mean(self.demandList)\n",
        "      sigma = np.std(self.demandList)\n",
        "      criticalRatio = self.shortage_cost/(self.shortage_cost+self.holding_cost)\n",
        "      optimalQuantity = round(sigma*norm.ppf(criticalRatio) + mu,0)\n",
        "      return optimalQuantity\n",
        "\n",
        "    def place_order(self):\n",
        "      ## placing the optimal order\n",
        "      optimalQuantity = self.cal_optimal_quantity()\n",
        "      self.optimalQtyList.append(optimalQuantity)\n",
        "      if self.inventory < optimalQuantity:\n",
        "        order = optimalQuantity - self.inventory\n",
        "        self.OrderList.append(order)\n",
        "        self.incomingOrder = self.distributor.receive_order(order)\n",
        "        self.inventory += self.incomingOrder\n",
        "        self.inventoryList.append(self.inventory)\n",
        "      else: self.OrderList.append(0)\n",
        "\n",
        "    def run(self):\n",
        "        while True:\n",
        "          if self.inventory >= 0:\n",
        "            self.costs.append(self.inventory*self.holding_cost)\n",
        "          else:\n",
        "            self.costs.append(abs(self.inventory*self.shortage_cost))\n",
        "          yield self.env.timeout(self.lead_time)\n",
        "          self.place_order()\n",
        "\n",
        "\n",
        "    def receive_order(self, demand):\n",
        "        self.demandList.append(demand)\n",
        "        if self.inventory < demand:\n",
        "            self.outgoingOrder = self.inventory\n",
        "        else:\n",
        "            self.outgoingOrder = demand\n",
        "        self.inventory -= self.outgoingOrder\n",
        "        return self.outgoingOrder\n"
      ],
      "metadata": {
        "id": "96y03D-cOfgb"
      },
      "execution_count": 6,
      "outputs": []
    },
    {
      "cell_type": "markdown",
      "source": [
        "#### Distributor"
      ],
      "metadata": {
        "id": "MmiHKhBuEhN3"
      }
    },
    {
      "cell_type": "code",
      "source": [
        "class Distributor:\n",
        "    def __init__(self, env, factory):\n",
        "        self.env = env\n",
        "        self.factory = factory\n",
        "        self.lead_time = random.randint(1,4)\n",
        "        self.incomingOrder = 0\n",
        "        self.outgoingOrder = 0\n",
        "        self.inventory = 0\n",
        "        self.holding_cost = 0.5\n",
        "        self.shortage_cost = 1\n",
        "        self.costs = []\n",
        "        self.demandList = []\n",
        "        self.optimalQtyList = []\n",
        "        self.OrderList = []\n",
        "        self.inventoryList  = []\n",
        "        self.action = env.process(self.run())\n",
        "\n",
        "    def cal_optimal_quantity(self):\n",
        "      ## Use new vendor model to calculate optimal quantity\n",
        "      mu = np.mean(self.demandList)\n",
        "      sigma = np.std(self.demandList)\n",
        "      criticalRatio = self.shortage_cost/(self.shortage_cost+self.holding_cost)\n",
        "      optimalQuantity = round(sigma*norm.ppf(criticalRatio) + mu,0)\n",
        "      return optimalQuantity\n",
        "\n",
        "    def place_order(self):\n",
        "      ## placing the optimal order\n",
        "      optimalQuantity = self.cal_optimal_quantity()\n",
        "      self.optimalQtyList.append(optimalQuantity)\n",
        "      if self.inventory < optimalQuantity:\n",
        "        order = optimalQuantity - self.inventory\n",
        "        self.OrderList.append(order)\n",
        "        self.incomingOrder = self.factory.receive_order(order)\n",
        "        self.inventory += self.incomingOrder\n",
        "        self.inventoryList.append(self.inventory)\n",
        "      else: self.OrderList.append(0)\n",
        "\n",
        "\n",
        "    def run(self):\n",
        "        while True:\n",
        "          if self.inventory >= 0:\n",
        "            self.costs.append(self.inventory*self.holding_cost)\n",
        "          else:\n",
        "            self.costs.append(abs(self.inventory*self.shortage_cost))\n",
        "          yield self.env.timeout(self.lead_time)\n",
        "          self.place_order()\n",
        "\n",
        "    def receive_order(self, demand):\n",
        "      self.demandList.append(demand)\n",
        "      if self.inventory < demand:\n",
        "          self.outgoingOrder = self.inventory\n",
        "      else:\n",
        "          self.outgoingOrder = demand\n",
        "      self.inventory -= self.outgoingOrder\n",
        "      return self.outgoingOrder"
      ],
      "metadata": {
        "id": "v8xyqEN_Oh0v"
      },
      "execution_count": 7,
      "outputs": []
    },
    {
      "cell_type": "markdown",
      "source": [
        "#### Factory"
      ],
      "metadata": {
        "id": "qQmIdavkEjOS"
      }
    },
    {
      "cell_type": "code",
      "source": [
        "class Factory:\n",
        "    def __init__(self, env):\n",
        "        self.env = env\n",
        "        self.lead_time = random.randint(1,4)\n",
        "        self.productionOrder = 0\n",
        "        self.outgoingOrder = 0\n",
        "        self.inventory = 0\n",
        "        self.holding_cost = 0.5\n",
        "        self.shortage_cost = 1\n",
        "        self.costs = []\n",
        "        self.demandList = []\n",
        "        self.optimalQtyList = []\n",
        "        self.OrderList = []\n",
        "        self.inventoryList  = []\n",
        "        self.action = env.process(self.run())\n",
        "\n",
        "    def cal_optimal_quantity(self):\n",
        "      ## Use new vendor model to calculate optimal quantity\n",
        "      mu = np.mean(self.demandList)\n",
        "      sigma = np.std(self.demandList)\n",
        "      criticalRatio = self.shortage_cost/(self.shortage_cost+self.holding_cost)\n",
        "      optimalQuantity = round(sigma*norm.ppf(criticalRatio) + mu,0)\n",
        "      return optimalQuantity\n",
        "\n",
        "    def place_order(self):\n",
        "      ## producing the optimal order\n",
        "      optimalQuantity = self.cal_optimal_quantity()\n",
        "      self.optimalQtyList.append(optimalQuantity)\n",
        "      if self.inventory < optimalQuantity:\n",
        "        order = optimalQuantity - self.inventory\n",
        "        self.OrderList.append(order)\n",
        "        self.inventory += order\n",
        "        self.inventoryList.append(self.inventory)\n",
        "      else: self.OrderList.append(0)\n",
        "\n",
        "    def run(self):\n",
        "        while True:\n",
        "          if self.inventory >= 0:\n",
        "            self.costs.append(self.inventory*self.holding_cost)\n",
        "          else:\n",
        "            self.costs.append(abs(self.inventory*self.shortage_cost))\n",
        "          yield self.env.timeout(self.lead_time)\n",
        "          self.place_order()\n",
        "\n",
        "    def receive_order(self, demand):\n",
        "      self.demandList.append(demand)\n",
        "      if self.inventory < demand:\n",
        "          self.outgoingOrder = self.inventory\n",
        "      else:\n",
        "          self.outgoingOrder = demand\n",
        "      self.inventory -= self.outgoingOrder\n",
        "      return self.outgoingOrder"
      ],
      "metadata": {
        "id": "Ja_a2HUWOjPt"
      },
      "execution_count": 8,
      "outputs": []
    },
    {
      "cell_type": "markdown",
      "source": [
        "#### Simulation"
      ],
      "metadata": {
        "id": "SWX8RYjUEmjV"
      }
    },
    {
      "cell_type": "code",
      "source": [
        "def run_simulation():\n",
        "    env = simpy.Environment()\n",
        "\n",
        "    factory = Factory(env)\n",
        "    distributor = Distributor(env, factory)\n",
        "    wholesaler = Wholesaler(env, distributor)\n",
        "    retailer = Retailer(env, wholesaler)\n",
        "\n",
        "    env.process(retailer.run())\n",
        "    env.process(wholesaler.run())\n",
        "    env.process(distributor.run())\n",
        "    env.process(factory.run())\n",
        "\n",
        "    env.run(until=20)  # Run the simulation for 20 time steps\n",
        "\n",
        "    print(\"Retailer demandList:\", retailer.demandList)\n",
        "    print(\"Wholesaler demandList:\", wholesaler.demandList)\n",
        "    print(\"Distributor demandList:\", distributor.demandList)\n",
        "    print(\"Factory demandList:\", factory.demandList)\n",
        "\n",
        "    print(\"Retailer optimalQtyList:\", retailer.optimalQtyList)\n",
        "    print(\"Wholesaler optimalQtyList:\", wholesaler.optimalQtyList)\n",
        "    print(\"Distributor optimalQtyList:\", distributor.optimalQtyList)\n",
        "    print(\"Factory optimalQtyList:\", factory.optimalQtyList)\n",
        "\n",
        "    print(\"Retailer OrderList:\", retailer.OrderList)\n",
        "    print(\"Wholesaler OrderList:\", wholesaler.OrderList)\n",
        "    print(\"Distributor OrderList:\", distributor.OrderList)\n",
        "    print(\"Factory OrderList:\", factory.OrderList)\n",
        "\n",
        "    print(\"Retailer inventoryList:\", retailer.inventoryList)\n",
        "    print(\"Wholesaler inventoryList:\", wholesaler.inventoryList)\n",
        "    print(\"Distributor inventoryList:\", distributor.inventoryList)\n",
        "    print(\"Factory inventoryList:\", factory.inventoryList)\n",
        "\n",
        "    print(\"Retailer costs:\", retailer.costs)\n",
        "    print(\"Wholesaler costs:\", wholesaler.costs)\n",
        "    print(\"Distributor costs:\", distributor.costs)\n",
        "    print(\"Factory costs:\", factory.costs)\n",
        "\n",
        "    def moving_average(data, window_size):\n",
        "        return np.convolve(data, np.ones(window_size) / window_size, mode='valid')\n",
        "\n",
        "# # Plot weekly costs with moving average\n",
        "    window_size = 2 # Adjust window size as needed\n",
        "#     plt.plot(moving_average(retailer.costs, window_size), label='Retailer')\n",
        "#     plt.plot(moving_average(wholesaler.costs, window_size), label='Wholesaler')\n",
        "#     plt.plot(moving_average(distributor.costs, window_size), label='Distributor')\n",
        "#     plt.plot(moving_average(factory.costs, window_size), label='Factory')\n",
        "#     plt.xlabel('Time Steps')\n",
        "#     plt.ylabel('Weekly Costs ($)')\n",
        "#     plt.title('Weekly Costs of Each Entity (Moving Average)')\n",
        "#     plt.legend()\n",
        "#     plt.show()\n",
        "\n",
        "# Plot weekly inventory with moving average\n",
        "    # plt.plot(moving_average(distributor.inventoryList, window_size), label='Retailer')\n",
        "    # plt.plot(moving_average(wholesaler.inventoryList, window_size), label='Wholesaler')\n",
        "    # plt.plot(moving_average(retailer.inventoryList, window_size), label='Distributor')\n",
        "    # plt.plot(moving_average(factory.inventoryList, window_size), label='Factory')\n",
        "    # plt.xlabel('Time Steps')\n",
        "    # plt.ylabel('Weekly Inventory (Qty)')\n",
        "    # plt.title('Weekly Inventory of Each Entity (Moving Average)')\n",
        "    # plt.legend()\n",
        "    # plt.show()\n",
        "\n",
        "# Plot weekly order with moving average\n",
        "    # plt.plot(moving_average(factory.OrderList, window_size), label='Retailer')\n",
        "    plt.plot(moving_average(wholesaler.OrderList, window_size), label='Factory')\n",
        "    plt.plot(moving_average(distributor.OrderList, window_size), label='Retailer')\n",
        "    # plt.plot(moving_average(retailer.OrderList, window_size), label='Factory')\n",
        "    plt.xlabel('Time Steps')\n",
        "    plt.ylabel('Weekly Order (Qty)')\n",
        "    plt.title('Weekly Order of Each Entity (Moving Average)')\n",
        "    plt.legend()\n",
        "    plt.show()\n"
      ],
      "metadata": {
        "id": "B-Q-6lxMOlaZ"
      },
      "execution_count": 58,
      "outputs": []
    },
    {
      "cell_type": "code",
      "source": [
        "run_simulation()"
      ],
      "metadata": {
        "colab": {
          "base_uri": "https://localhost:8080/",
          "height": 839
        },
        "id": "OQUWnxlgOQyd",
        "outputId": "6c8f3c36-cb07-44ad-a63a-345778dea6ec"
      },
      "execution_count": 62,
      "outputs": [
        {
          "output_type": "stream",
          "name": "stdout",
          "text": [
            "Retailer demandList: [100000, 100000, 200000, 100000, 150000, 100000, 200000, 100000, 100000, 100000, 100000, 150000, 100000, 100000]\n",
            "Wholesaler demandList: [100000.0, 153638.0, 143651.0, 147229.0, 141449.0, 154680.0, 149706.0, 107611.0, 142363.0, 108789.0, 141449.0, 115071.0]\n",
            "Distributor demandList: [138371.0, 138371.0, 138371.0, 138371.0, 138371.0, 138371.0, 145245.0, 6874.0, 6874.0, 6874.0, 6874.0, 6874.0, 148107.0, 35810.0, 35810.0, 10033.0, 10033.0, 10033.0, 145795.0, 48410.0, 48410.0, 15015.0, 15015.0, 15015.0, 143454.0, 52919.0, 52919.0, 19386.0, 19386.0, 19386.0, 142008.0, 55281.0, 55281.0, 23351.0]\n",
            "Factory demandList: [138371.0, 138371.0, 138371.0, 138371.0, 138371.0, 138371.0, 141690.0, 141690.0, 125773.0, 125773.0, 112297.0, 112297.0, 112906.0, 87129.0, 104881.0, 104881.0, 97385.0, 97385.0, 99752.0, 66357.0, 95351.0, 95351.0, 90535.0, 90535.0, 92974.0, 59441.0, 90132.0, 90132.0, 86727.0, 86727.0, 88984.0, 57054.0, 86970.0]\n",
            "Retailer optimalQtyList: [100000.0, 153638.0, 143651.0, 147229.0, 141449.0, 154680.0, 149706.0, 145685.0, 142363.0, 139569.0, 141449.0, 139139.0]\n",
            "Wholesaler optimalQtyList: [nan, nan, nan, nan, 138371.0, 138371.0, 138371.0, 138371.0, 138371.0, 138371.0, 145245.0, 145245.0, 145245.0, 145245.0, 145245.0, 145245.0, 148107.0, 148107.0, 148107.0, 148107.0, 148107.0, 148107.0, 145795.0, 145795.0, 145795.0, 145795.0, 145795.0, 145795.0, 143454.0, 143454.0, 143454.0, 143454.0, 143454.0, 143454.0, 142008.0, 142008.0, 142008.0, 142008.0]\n",
            "Distributor optimalQtyList: [nan, nan, nan, nan, nan, 138371.0, 138371.0, 138371.0, 138371.0, 138371.0, 138371.0, 141690.0, 141690.0, 125773.0, 125773.0, 112297.0, 112297.0, 112906.0, 112906.0, 104881.0, 104881.0, 97385.0, 97385.0, 99752.0, 99752.0, 95351.0, 95351.0, 90535.0, 90535.0, 92974.0, 92974.0, 90132.0, 90132.0, 86727.0, 86727.0, 88984.0, 88984.0, 86970.0]\n",
            "Factory optimalQtyList: [nan, nan, 138371.0, 138371.0, 138074.0, 138074.0, 130780.0, 130780.0, 124068.0, 124068.0, 118657.0, 118657.0]\n",
            "Retailer OrderList: [100000.0, 153638.0, 143651.0, 147229.0, 141449.0, 154680.0, 149706.0, 107611.0, 142363.0, 108789.0, 141449.0, 115071.0]\n",
            "Wholesaler OrderList: [0, 0, 0, 0, 138371.0, 138371.0, 138371.0, 138371.0, 138371.0, 138371.0, 145245.0, 6874.0, 6874.0, 6874.0, 6874.0, 6874.0, 148107.0, 35810.0, 35810.0, 10033.0, 10033.0, 10033.0, 145795.0, 48410.0, 48410.0, 15015.0, 15015.0, 15015.0, 143454.0, 52919.0, 52919.0, 19386.0, 19386.0, 19386.0, 142008.0, 55281.0, 55281.0, 23351.0]\n",
            "Distributor OrderList: [0, 0, 0, 0, 0, 138371.0, 138371.0, 138371.0, 138371.0, 138371.0, 138371.0, 141690.0, 141690.0, 125773.0, 125773.0, 112297.0, 112297.0, 112906.0, 87129.0, 104881.0, 104881.0, 97385.0, 97385.0, 99752.0, 66357.0, 95351.0, 95351.0, 90535.0, 90535.0, 92974.0, 59441.0, 90132.0, 90132.0, 86727.0, 86727.0, 88984.0, 57054.0, 86970.0]\n",
            "Factory OrderList: [0, 0, 138371.0, 0, 138074.0, 0, 130780.0, 0, 124068.0, 0, 118657.0, 0]\n",
            "Retailer inventoryList: [0, 0, 0, 0, 138371.0, 0.0, 138074.0, 38074.0, 130780.0, 30780.0, 124068.0, 24068.0]\n",
            "Wholesaler inventoryList: [0, 0, 0, 0, 0, 0, 138371.0, 138371.0, 138371.0, 138371.0, 138371.0, 138371.0, 112297.0, 112297.0, 138074.0, 138074.0, 138074.0, 138074.0, 97385.0, 97385.0, 130780.0, 130780.0, 130780.0, 130780.0, 90535.0, 90535.0, 124068.0, 124068.0, 124068.0, 124068.0, 86727.0, 86727.0, 118657.0, 118657.0]\n",
            "Distributor inventoryList: [0, 0, 0, 0, 0, 138371.0, 0.0, 0.0, 0.0, 0.0, 0.0, 112297.0, 25777.0, 25777.0, 0.0, 0.0, 0.0, 97385.0, 33395.0, 33395.0, 0.0, 0.0, 0.0, 90535.0, 33533.0, 33533.0, 0.0, 0.0, 0.0, 86727.0, 31930.0, 31930.0, 0.0]\n",
            "Factory inventoryList: [138371.0, 138074.0, 130780.0, 124068.0, 118657.0]\n",
            "Retailer costs: [0.0, 0.0, 0.0, 0.0, 0.0, 0.0, 0.0, 0.0, 19037.0, 0.0, 15390.0, 0.0, 12034.0, 0.0]\n",
            "Wholesaler costs: [0.0, 0.0, 0.0, 0.0, 0.0, 0.0, 0.0, 0.0, 0.0, 0.0, 0.0, 0.0, 69185.5, 69185.5, 69185.5, 69185.5, 69185.5, 69185.5, 56148.5, 56148.5, 69037.0, 69037.0, 69037.0, 69037.0, 48692.5, 48692.5, 65390.0, 65390.0, 65390.0, 65390.0, 45267.5, 45267.5, 62034.0, 62034.0, 62034.0, 62034.0, 43363.5, 43363.5, 59328.5, 59328.5]\n",
            "Distributor costs: [0.0, 0.0, 0.0, 0.0, 0.0, 0.0, 0.0, 0.0, 0.0, 0.0, 0.0, 0.0, 69185.5, 0.0, 0.0, 0.0, 0.0, 0.0, 56148.5, 12888.5, 12888.5, 0.0, 0.0, 0.0, 48692.5, 16697.5, 16697.5, 0.0, 0.0, 0.0, 45267.5, 16766.5, 16766.5, 0.0, 0.0, 0.0, 43363.5, 15965.0, 15965.0, 0.0]\n",
            "Factory costs: [0.0, 0.0, 0.0, 0.0, 69185.5, 69185.5, 69037.0, 69037.0, 65390.0, 65390.0, 62034.0, 62034.0, 59328.5, 59328.5]\n"
          ]
        },
        {
          "output_type": "display_data",
          "data": {
            "text/plain": [
              "<Figure size 640x480 with 1 Axes>"
            ],
            "image/png": "[encoded data removed]"
          },
          "metadata": {}
        }
      ]
    }
  ]
}